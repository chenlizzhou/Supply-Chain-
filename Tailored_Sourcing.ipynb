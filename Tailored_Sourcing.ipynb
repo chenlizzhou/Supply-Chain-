{
  "nbformat": 4,
  "nbformat_minor": 0,
  "metadata": {
    "colab": {
      "provenance": [],
      "authorship_tag": "ABX9TyOYa9SIdzVW/DhmCJL1U2lK",
      "include_colab_link": true
    },
    "kernelspec": {
      "name": "python3",
      "display_name": "Python 3"
    },
    "language_info": {
      "name": "python"
    }
  },
  "cells": [
    {
      "cell_type": "markdown",
      "metadata": {
        "id": "view-in-github",
        "colab_type": "text"
      },
      "source": [
        "<a href=\"https://colab.research.google.com/github/chenlizzhou/Supply-Chain-/blob/main/Tailored_Sourcing.ipynb\" target=\"_parent\"><img src=\"https://colab.research.google.com/assets/colab-badge.svg\" alt=\"Open In Colab\"/></a>"
      ]
    },
    {
      "cell_type": "code",
      "execution_count": 1,
      "metadata": {
        "id": "3iNShuyCzoPh"
      },
      "outputs": [],
      "source": [
        "import math\n",
        "import pandas as pd\n",
        "import numpy as np"
      ]
    },
    {
      "cell_type": "code",
      "source": [
        "demand= [1000, 300, 100, 50]\n",
        "trans_cost= [100, 100, 100, 100]\n",
        "order_cost= [10, 20, 25, 25]\n",
        "unit_cost= [50, 60, 30, 30]\n",
        "hold_cost_percent= [0.2, 0.2, 0.2, 0.2]"
      ],
      "metadata": {
        "id": "mfYHCMPoztpo"
      },
      "execution_count": 2,
      "outputs": []
    },
    {
      "cell_type": "markdown",
      "source": [
        "### Question 1 Products are sourced independently\n"
      ],
      "metadata": {
        "id": "eooAgWIQz5GC"
      }
    },
    {
      "cell_type": "code",
      "source": [
        "# Use the formula Q=sqrt(2DS/H)\n",
        "# Calculate holding cost per unit\n",
        "hold_cost = [uc * hc for uc, hc in zip(unit_cost, hold_cost_percent)]\n",
        "per_order_cost= [(t+ o) for t, o in zip(trans_cost, order_cost)]\n",
        "\n",
        "# Calculate optimal order size Q for each product\n",
        "optimal_Q1 = [round(math.sqrt((2*d*s)/h), 0) for d, s, h in zip(demand, per_order_cost, hold_cost)]\n",
        "\n",
        "for i, q in enumerate(optimal_Q1, start=1):\n",
        "    print(f'For product {i}, the optimal order size is {q:.1f}')"
      ],
      "metadata": {
        "colab": {
          "base_uri": "https://localhost:8080/"
        },
        "id": "SawiuxX7z9A2",
        "outputId": "3eb38cc7-06cf-47c4-e35a-dcaf19941ab5"
      },
      "execution_count": 3,
      "outputs": [
        {
          "output_type": "stream",
          "name": "stdout",
          "text": [
            "For product 1, the optimal order size is 148.0\n",
            "For product 2, the optimal order size is 77.0\n",
            "For product 3, the optimal order size is 65.0\n",
            "For product 4, the optimal order size is 46.0\n"
          ]
        }
      ]
    },
    {
      "cell_type": "code",
      "source": [
        "order_freq= [round((d/q),4) for d, q in zip(demand, optimal_Q1)]\n",
        "order_freq"
      ],
      "metadata": {
        "colab": {
          "base_uri": "https://localhost:8080/"
        },
        "id": "xDAilVRB0KE8",
        "outputId": "9fbae515-c4f1-4823-8554-4e2dc8cdd58a"
      },
      "execution_count": 4,
      "outputs": [
        {
          "output_type": "execute_result",
          "data": {
            "text/plain": [
              "[6.7568, 3.8961, 1.5385, 1.087]"
            ]
          },
          "metadata": {},
          "execution_count": 4
        }
      ]
    },
    {
      "cell_type": "code",
      "source": [
        "# annual operational cost = (holding + ordering)\n",
        "# q/2 = average inventory\n",
        "annual_h_cost = [(q / 2) * H for q, H in zip(optimal_Q1, hold_cost)]\n",
        "annual_o_cost = [round(of * s, 2) for of, s in zip(order_freq, per_order_cost)]\n",
        "\n",
        "# Calculate total annual operational cost for each product\n",
        "total_annual_op_cost = [round(hcost + ocost, 2) for hcost, ocost in zip(annual_h_cost, annual_o_cost)]\n",
        "\n",
        "# Preparing formatted output for each product\n",
        "for i, (h_cost, o_cost, total_cost) in enumerate(zip(annual_h_cost, annual_o_cost, total_annual_op_cost), start=1):\n",
        "    print(f'For product {i}, the annual holding cost is {h_cost:.2f}, the annual ordering cost is {o_cost:.2f}, and the total annual operational cost is {total_cost:.2f}')\n",
        "\n",
        "sum_total_1= sum(total_annual_op_cost)\n",
        "print(f'Total annual operational cost is', sum_total_1)"
      ],
      "metadata": {
        "colab": {
          "base_uri": "https://localhost:8080/"
        },
        "id": "YpQ70iJX0SrP",
        "outputId": "7124e4f3-7969-4614-a8ef-2f33149dbf4b"
      },
      "execution_count": 5,
      "outputs": [
        {
          "output_type": "stream",
          "name": "stdout",
          "text": [
            "For product 1, the annual holding cost is 740.00, the annual ordering cost is 743.25, and the total annual operational cost is 1483.25\n",
            "For product 2, the annual holding cost is 462.00, the annual ordering cost is 467.53, and the total annual operational cost is 929.53\n",
            "For product 3, the annual holding cost is 195.00, the annual ordering cost is 192.31, and the total annual operational cost is 387.31\n",
            "For product 4, the annual holding cost is 138.00, the annual ordering cost is 135.88, and the total annual operational cost is 273.88\n",
            "Total annual operational cost is 3073.97\n"
          ]
        }
      ]
    },
    {
      "cell_type": "markdown",
      "source": [
        "### Question 2 All four products are sourced with the same frequency"
      ],
      "metadata": {
        "id": "vnLabwDu0V4P"
      }
    },
    {
      "cell_type": "code",
      "source": [
        "# If all products are sourced with the same frequency, we will need to calculate the cost for ordering all products one time\n",
        "trans_cost = 100\n",
        "\n",
        "# Calculate total order cost when ordering together\n",
        "order_together_cost = sum(order_cost) + trans_cost\n",
        "S= order_together_cost\n",
        "print(f'The cost of ordering all products at one time is ${S}')"
      ],
      "metadata": {
        "colab": {
          "base_uri": "https://localhost:8080/"
        },
        "id": "qRCDzeCN0aea",
        "outputId": "0ccfb309-5bad-4900-9615-1d5b26d445a1"
      },
      "execution_count": 6,
      "outputs": [
        {
          "output_type": "stream",
          "name": "stdout",
          "text": [
            "The cost of ordering all products at one time is $180\n"
          ]
        }
      ]
    },
    {
      "cell_type": "code",
      "source": [
        "DhC = sum(d* H for d, H in zip(demand, hold_cost))\n",
        "\n",
        "# Calculate optimal order frequency n\n",
        "n = math.sqrt((DhC) / (2 * S))\n",
        "n"
      ],
      "metadata": {
        "colab": {
          "base_uri": "https://localhost:8080/"
        },
        "id": "Opdi2oNB0hAD",
        "outputId": "56c59f25-09af-41f9-efb0-ed24d6c66bac"
      },
      "execution_count": 7,
      "outputs": [
        {
          "output_type": "execute_result",
          "data": {
            "text/plain": [
              "6.346477588219924"
            ]
          },
          "metadata": {},
          "execution_count": 7
        }
      ]
    },
    {
      "cell_type": "code",
      "source": [
        "optimal_Q2= [round(d/n, 0) for d in demand]\n",
        "for i, Q2 in enumerate(optimal_Q2, start=1):\n",
        "  print(f'For product{i}, the optimal order size is {Q2}')"
      ],
      "metadata": {
        "colab": {
          "base_uri": "https://localhost:8080/"
        },
        "id": "E7Klkd6g0kGY",
        "outputId": "b7caa411-7d8e-4cd0-d6fd-5f3e5bc7b1b9"
      },
      "execution_count": 8,
      "outputs": [
        {
          "output_type": "stream",
          "name": "stdout",
          "text": [
            "For product1, the optimal order size is 158.0\n",
            "For product2, the optimal order size is 47.0\n",
            "For product3, the optimal order size is 16.0\n",
            "For product4, the optimal order size is 8.0\n"
          ]
        }
      ]
    },
    {
      "cell_type": "code",
      "source": [
        "# annual operational cost = (holding + ordering)\n",
        "# q/2 = average inventory\n",
        "annual_h_cost2 = [(q / 2) * H for q, H in zip(optimal_Q2, hold_cost)]\n",
        "annual_o_cost2 = n*S\n",
        "\n",
        "# Calculate total annual operational cost for each product\n",
        "sum_total_2 = sum(annual_h_cost2)+ annual_o_cost2\n",
        "\n",
        "\n",
        "print(f'Total annual operational cost is', round(sum_total_2, 2))"
      ],
      "metadata": {
        "colab": {
          "base_uri": "https://localhost:8080/"
        },
        "id": "rkGnGOxx0k5D",
        "outputId": "e0ced3dc-a46a-4363-d196-e413b5fde74d"
      },
      "execution_count": 9,
      "outputs": [
        {
          "output_type": "stream",
          "name": "stdout",
          "text": [
            "Total annual operational cost is 2286.37\n"
          ]
        }
      ]
    },
    {
      "cell_type": "markdown",
      "source": [
        "### Question 3 Order Frequencies are determined by the tailored aggregation stragegy"
      ],
      "metadata": {
        "id": "2dJDstQk0rDw"
      }
    },
    {
      "cell_type": "code",
      "source": [
        "# Based on the result of question 1, product 1 is the most freq ordered product as 6.758 times per year\n",
        "# recompute the frequencies for product 2,3,4 using only product cost\n",
        "fre1_4= 6.7568\n",
        "demand2_4= demand[1:]\n",
        "order_cost2_4= order_cost[1:]\n",
        "hold_cost2_4= hold_cost[1:]\n",
        "\n",
        "Q2_Q4 = [round(math.sqrt((2*d*s)/h), 0) for d, s, h in zip(demand2_4, order_cost2_4, hold_cost2_4)] # only contains the result from Product 2 to Product 4\n",
        "fre2_4= [d/q for d, q in zip(demand2_4, Q2_Q4)]\n",
        "\n",
        "fre2_4"
      ],
      "metadata": {
        "id": "E21Qz3Kc006v",
        "outputId": "c0eef5f4-44ae-4351-d8a3-f804b38a086b",
        "colab": {
          "base_uri": "https://localhost:8080/"
        }
      },
      "execution_count": 10,
      "outputs": [
        {
          "output_type": "execute_result",
          "data": {
            "text/plain": [
              "[9.375, 3.4482758620689653, 2.5]"
            ]
          },
          "metadata": {},
          "execution_count": 10
        }
      ]
    },
    {
      "cell_type": "code",
      "source": [
        "# Calculate the m for each product\n",
        "all_m_number= [1]\n",
        "m_number2_4= []\n",
        "for i, f in enumerate(fre2_4, start=2):\n",
        "    m = math.ceil(fre1_4/ f)\n",
        "    all_m_number.append(m)\n",
        "    m_number2_4.append(m)\n",
        "\n",
        "print(all_m_number)"
      ],
      "metadata": {
        "id": "fnM_Lb621ib4",
        "outputId": "e3326863-15f4-4ef8-d3ae-e73dc83d7a8b",
        "colab": {
          "base_uri": "https://localhost:8080/"
        }
      },
      "execution_count": 11,
      "outputs": [
        {
          "output_type": "stream",
          "name": "stdout",
          "text": [
            "[1, 1, 2, 3]\n"
          ]
        }
      ]
    },
    {
      "cell_type": "code",
      "source": [
        "# Calculate the n  for each product\n",
        "order_cost1= 110\n",
        "DD= sum(d * H * m for d, H, m in zip(demand, hold_cost, all_m_number))\n",
        "SS= 2*(order_cost1+ sum(s/m for s, m in zip(order_cost2_4, m_number2_4)))\n",
        "n1= round(math.sqrt(DD/SS), 1)\n",
        "n1"
      ],
      "metadata": {
        "id": "Bt3qEZNA1k4o",
        "outputId": "4fa5f236-c617-471f-ea61-dc34be0138e5",
        "colab": {
          "base_uri": "https://localhost:8080/"
        }
      },
      "execution_count": 12,
      "outputs": [
        {
          "output_type": "execute_result",
          "data": {
            "text/plain": [
              "7.2"
            ]
          },
          "metadata": {},
          "execution_count": 12
        }
      ]
    },
    {
      "cell_type": "code",
      "source": [
        "n2_4= [n1/ m for m in m_number2_4]\n",
        "all_frequency= [n1]\n",
        "all_frequency.extend(n2_4)\n",
        "all_frequency"
      ],
      "metadata": {
        "id": "tQoMwLxn1tMJ",
        "outputId": "5e687948-82bb-4865-eaab-b84f4a3839da",
        "colab": {
          "base_uri": "https://localhost:8080/"
        }
      },
      "execution_count": 13,
      "outputs": [
        {
          "output_type": "execute_result",
          "data": {
            "text/plain": [
              "[7.2, 7.2, 3.6, 2.4]"
            ]
          },
          "metadata": {},
          "execution_count": 13
        }
      ]
    },
    {
      "cell_type": "code",
      "source": [
        "optimal_Q3= [round(d/f, 0) for d, f in zip(demand, all_frequency)]\n",
        "optimal_Q3"
      ],
      "metadata": {
        "id": "poEdh3-x1z7A",
        "outputId": "38cd35b8-e907-4b42-8e25-bccd30e2a5e5",
        "colab": {
          "base_uri": "https://localhost:8080/"
        }
      },
      "execution_count": 14,
      "outputs": [
        {
          "output_type": "execute_result",
          "data": {
            "text/plain": [
              "[139.0, 42.0, 28.0, 21.0]"
            ]
          },
          "metadata": {},
          "execution_count": 14
        }
      ]
    },
    {
      "cell_type": "code",
      "source": [
        "S_cost= [order_cost1]\n",
        "S_cost.extend(order_cost2_4)\n",
        "\n",
        "annual_o_cost3 = sum(S*f for S, f in zip(S_cost, all_frequency))\n",
        "annual_h_cost3= sum(q/2*H for q, H in zip(optimal_Q3, hold_cost))\n",
        "annual_total_3= annual_o_cost3+ annual_h_cost3\n",
        "\n",
        "print(f'Total annual operational cost is {annual_total_3}')"
      ],
      "metadata": {
        "id": "LBzvoXzo12U0",
        "outputId": "2b3be976-207f-4481-eb3d-5c181bcefa28",
        "colab": {
          "base_uri": "https://localhost:8080/"
        }
      },
      "execution_count": 15,
      "outputs": [
        {
          "output_type": "stream",
          "name": "stdout",
          "text": [
            "Total annual operational cost is 2180.0\n"
          ]
        }
      ]
    }
  ]
}